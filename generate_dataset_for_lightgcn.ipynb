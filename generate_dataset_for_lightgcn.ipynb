{
 "cells": [
  {
   "cell_type": "code",
   "execution_count": 1,
   "metadata": {},
   "outputs": [],
   "source": [
    "from utils.data_generator import Data"
   ]
  },
  {
   "cell_type": "code",
   "execution_count": 15,
   "metadata": {},
   "outputs": [],
   "source": [
    "dataset = 'yelp'\n",
    "seed = 1234\n",
    "test_ratio = 0.2"
   ]
  },
  {
   "cell_type": "code",
   "execution_count": 16,
   "metadata": {},
   "outputs": [
    {
     "name": "stdout",
     "output_type": "stream",
     "text": [
      "generating adj csr... \n",
      "time elapsed: 3.789\n",
      "saving adj_csr to ./data/yelp/adj_csr.npz\n",
      "time elapsed 6.0363s\n",
      "num_users 97462, num_items 48294\n",
      "adjacency matrix shape:  (145756, 145756)\n",
      "number of all ratings 2242997, density 0.000477\n"
     ]
    }
   ],
   "source": [
    "data = Data(dataset, seed, test_ratio)\n",
    "with open(f'data/{dataset}/train.txt', 'w') as f:\n",
    "    for u in data.train_dict:\n",
    "        f.write(f'{u} ')\n",
    "        for i in data.train_dict[u]:\n",
    "            f.write(f'{i} ')\n",
    "        f.write('\\n')\n",
    "        \n",
    "with open(f'data/{dataset}/test.txt', 'w') as f:\n",
    "    for u in data.test_dict:\n",
    "        f.write(f'{u} ')\n",
    "        for i in data.train_dict[u]:\n",
    "            f.write(f'{i} ')\n",
    "        f.write('\\n')"
   ]
  }
 ],
 "metadata": {
  "kernelspec": {
   "display_name": "Python 3",
   "language": "python",
   "name": "python3"
  },
  "language_info": {
   "codemirror_mode": {
    "name": "ipython",
    "version": 3
   },
   "file_extension": ".py",
   "mimetype": "text/x-python",
   "name": "python",
   "nbconvert_exporter": "python",
   "pygments_lexer": "ipython3",
   "version": "3.7.0"
  }
 },
 "nbformat": 4,
 "nbformat_minor": 4
}
